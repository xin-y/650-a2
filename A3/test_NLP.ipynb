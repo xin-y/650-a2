{
  "nbformat": 4,
  "nbformat_minor": 0,
  "metadata": {
    "colab": {
      "name": "ftest_NLP",
      "provenance": [],
      "collapsed_sections": []
    },
    "kernelspec": {
      "name": "python3",
      "display_name": "Python 3"
    }
  },
  "cells": [
    {
      "cell_type": "code",
      "metadata": {
        "id": "ONUPWYCWSy-C",
        "colab_type": "code",
        "colab": {
          "base_uri": "https://localhost:8080/",
          "height": 35
        },
        "outputId": "970bbf52-4e53-4821-f392-847cd30622e5"
      },
      "source": [
        "from keras.utils import get_file\n",
        "import tarfile\n",
        "data_dir = get_file('aclImdb_v1.tar.gz', 'http://ai.stanford.edu/~amaas/data/sentiment/aclImdb_v1.tar.gz', cache_subdir = \"datasets\",hash_algorithm = \"auto\", extract = True, archive_format = \"auto\")\n",
        "\n",
        "my_tar = tarfile.open(data_dir)\n",
        "my_tar.extractall('./data/') # specify which folder to extract to\n",
        "my_tar.close()"
      ],
      "execution_count": null,
      "outputs": [
        {
          "output_type": "stream",
          "text": [
            "Using TensorFlow backend.\n"
          ],
          "name": "stderr"
        }
      ]
    },
    {
      "cell_type": "code",
      "metadata": {
        "id": "gmTgzeuID-ML",
        "colab_type": "code",
        "colab": {}
      },
      "source": [
        "from glob import glob\n",
        "import os,re,string\n",
        "import numpy as np\n",
        "PATH='./data/aclImdb/'\n",
        "names = ['neg','pos']\n",
        "\n",
        "def load_texts_labels_from_folders(path, folders):\n",
        "    texts,labels = [],[]\n",
        "    for idx,label in enumerate(folders):\n",
        "        for fname in glob(os.path.join(path, label, '*.*')):\n",
        "            texts.append(open(fname, 'r').read())\n",
        "            labels.append(idx)\n",
        "    \n",
        "    return texts, np.array(labels).astype(np.int64)\n",
        "\n",
        "x_train,y_train = load_texts_labels_from_folders(f'{PATH}train',names)\n",
        "x_test,y_test = load_texts_labels_from_folders(f'{PATH}test',names)\n",
        "\n",
        "\n"
      ],
      "execution_count": null,
      "outputs": []
    },
    {
      "cell_type": "code",
      "metadata": {
        "id": "sh8FV5_f-TIy",
        "colab_type": "code",
        "colab": {}
      },
      "source": [
        "\n",
        "\n",
        "def preprocess_reviews(reviews):\n",
        "    tokens = re.compile(\"[.;:!#\\'?,\\\"()\\[\\]]|(<br\\s*/><br\\s*/>)|(\\-)|(\\/)\")\n",
        "    \n",
        "    return [tokens.sub(\"\", line.lower()) for line in reviews]\n",
        "\n",
        "x_train_clean = preprocess_reviews(x_train)\n",
        "x_test_clean = preprocess_reviews(x_test)"
      ],
      "execution_count": null,
      "outputs": []
    },
    {
      "cell_type": "code",
      "metadata": {
        "id": "I00H9SnwJ7E4",
        "colab_type": "code",
        "colab": {}
      },
      "source": [
        "import tensorflow as tf\n",
        "from tensorflow import keras\n",
        "tok = keras.preprocessing.text.Tokenizer()\n",
        "tok.fit_on_texts(x_train_clean) \n",
        "X_train = tok.texts_to_sequences(x_train_clean)\n",
        "X_test = tok.texts_to_sequences(x_test_clean)\n",
        "\n",
        "#\" \".join(map(str,X_train[0]))"
      ],
      "execution_count": null,
      "outputs": []
    },
    {
      "cell_type": "code",
      "metadata": {
        "id": "4ARkPdTfM19S",
        "colab_type": "code",
        "colab": {}
      },
      "source": [
        "from sklearn.model_selection import train_test_split\n",
        "X_train = keras.preprocessing.sequence.pad_sequences(X_train,padding='post',maxlen=1000)\n",
        "X_test = keras.preprocessing.sequence.pad_sequences(X_test,padding='post',maxlen=1000)\n",
        "X_train, X_val, y_train, y_val = train_test_split(X_train, y_train, test_size=0.3, random_state=42)\n",
        "# X_train[7]"
      ],
      "execution_count": null,
      "outputs": []
    },
    {
      "cell_type": "markdown",
      "metadata": {
        "id": "ZXYkT-UaOzeW",
        "colab_type": "text"
      },
      "source": [
        ""
      ]
    },
    {
      "cell_type": "code",
      "metadata": {
        "colab_type": "code",
        "id": "cXRt8KQQrSXI",
        "colab": {
          "base_uri": "https://localhost:8080/",
          "height": 35
        },
        "outputId": "b40ba813-cc9f-45db-d637-6f4ffc866f4d"
      },
      "source": [
        "%pwd\n",
        "%cd /content/drive/My Drive/assignment3/"
      ],
      "execution_count": null,
      "outputs": [
        {
          "output_type": "stream",
          "text": [
            "/content/drive/My Drive/assignment3\n"
          ],
          "name": "stdout"
        }
      ]
    },
    {
      "cell_type": "code",
      "metadata": {
        "id": "Yv-DlRbHb5pP",
        "colab_type": "code",
        "colab": {}
      },
      "source": [
        "model=tf.keras.models.load_model(\"./models/20834941_NLP_model.h5\")"
      ],
      "execution_count": null,
      "outputs": []
    },
    {
      "cell_type": "code",
      "metadata": {
        "id": "gOvOr8uSbLFe",
        "colab_type": "code",
        "colab": {
          "base_uri": "https://localhost:8080/",
          "height": 52
        },
        "outputId": "c76ba37b-51d9-448f-b4af-9fce7bd029d9"
      },
      "source": [
        "scores = model.evaluate(X_test,y_test)\n",
        "test_accuracy = scores[1]\n",
        "print('accuracy on testing set:',test_accuracy)"
      ],
      "execution_count": null,
      "outputs": [
        {
          "output_type": "stream",
          "text": [
            "782/782 [==============================] - 4s 5ms/step - loss: 0.3007 - acc: 0.8853\n",
            "accuracy on testing set: 0.8852800130844116\n"
          ],
          "name": "stdout"
        }
      ]
    }
  ]
}
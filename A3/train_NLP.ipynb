{
  "nbformat": 4,
  "nbformat_minor": 0,
  "metadata": {
    "colab": {
      "name": "ftrain_NLP",
      "provenance": [],
      "collapsed_sections": []
    },
    "kernelspec": {
      "name": "python3",
      "display_name": "Python 3"
    }
  },
  "cells": [
    {
      "cell_type": "code",
      "metadata": {
        "id": "ONUPWYCWSy-C",
        "colab_type": "code",
        "colab": {
          "base_uri": "https://localhost:8080/",
          "height": 70
        },
        "outputId": "c19f1cf5-2713-4bba-ada5-742208d845aa"
      },
      "source": [
        "from keras.utils import get_file\n",
        "import tarfile\n",
        "data_dir = get_file('aclImdb_v1.tar.gz', 'http://ai.stanford.edu/~amaas/data/sentiment/aclImdb_v1.tar.gz', cache_subdir = \"datasets\",hash_algorithm = \"auto\", extract = True, archive_format = \"auto\")\n",
        "\n",
        "my_tar = tarfile.open(data_dir)\n",
        "my_tar.extractall('./data/') # specify which folder to extract to\n",
        "my_tar.close()"
      ],
      "execution_count": null,
      "outputs": [
        {
          "output_type": "stream",
          "text": [
            "Using TensorFlow backend.\n"
          ],
          "name": "stderr"
        },
        {
          "output_type": "stream",
          "text": [
            "Downloading data from http://ai.stanford.edu/~amaas/data/sentiment/aclImdb_v1.tar.gz\n",
            "84131840/84125825 [==============================] - 5s 0us/step\n"
          ],
          "name": "stdout"
        }
      ]
    },
    {
      "cell_type": "code",
      "metadata": {
        "id": "gmTgzeuID-ML",
        "colab_type": "code",
        "colab": {}
      },
      "source": [
        "from glob import glob\n",
        "import os,re,string\n",
        "import numpy as np\n",
        "PATH='./data/aclImdb/'\n",
        "names = ['neg','pos']\n",
        "\n",
        "def load_texts_labels_from_folders(path, folders):\n",
        "    texts,labels = [],[]\n",
        "    for idx,label in enumerate(folders):\n",
        "        for fname in glob(os.path.join(path, label, '*.*')):\n",
        "            texts.append(open(fname, 'r').read())\n",
        "            labels.append(idx)\n",
        "    \n",
        "    return texts, np.array(labels).astype(np.int64)\n",
        "\n",
        "x_train,y_train = load_texts_labels_from_folders(f'{PATH}train',names)\n",
        "x_test,y_test = load_texts_labels_from_folders(f'{PATH}test',names)\n",
        "\n",
        "\n"
      ],
      "execution_count": null,
      "outputs": []
    },
    {
      "cell_type": "code",
      "metadata": {
        "id": "sh8FV5_f-TIy",
        "colab_type": "code",
        "colab": {}
      },
      "source": [
        "\n",
        "\n",
        "def preprocess_reviews(reviews):\n",
        "    tokens = re.compile(\"[.;:!#\\'?,\\\"()\\[\\]]|(<br\\s*/><br\\s*/>)|(\\-)|(\\/)\")\n",
        "    \n",
        "    return [tokens.sub(\"\", line.lower()) for line in reviews]\n",
        "\n",
        "x_train_clean = preprocess_reviews(x_train)\n",
        "x_test_clean = preprocess_reviews(x_test)"
      ],
      "execution_count": null,
      "outputs": []
    },
    {
      "cell_type": "code",
      "metadata": {
        "id": "WZ2dEKepB_tX",
        "colab_type": "code",
        "colab": {
          "base_uri": "https://localhost:8080/",
          "height": 106
        },
        "outputId": "580f674f-ff06-4ef3-bab6-9fdce4de44cc"
      },
      "source": [
        "x_train_clean[7]"
      ],
      "execution_count": null,
      "outputs": [
        {
          "output_type": "execute_result",
          "data": {
            "application/vnd.google.colaboratory.intrinsic+json": {
              "type": "string"
            },
            "text/plain": [
              "'i had high expectations for this indie having perused the many thumbs up reviews thenheres my additional two cents to the already posted excellent lost in translation review premise morgan is stuck in a dusty small town where he meets lovely scarlet who is working in the local supermarket can morgan help elevate the lovely scarlet from her trailer trash liferealistic dialog not how about that shopping in target first freeman looks at the target interior as if hes walked into harrods then hes bowled over at a tshirt rack confirming he has never been in any store visited by lovely scarlet morgan is detached from any and all aspects of scarlets reality and is portrayed as gleeful in his ignorance of everyone and everything in scarlets lifeone reviewer enjoyed the scarlet and exhubby fight scene where her survival a car in this instance requires she physically attack her ex hubbie does freeman run to her defensenawhes cowering in disbelief and totally incapable of dealing with such a blunt aspect of her very real sorry lot in life freemans character believes a car wash and new very revealing tight fitting blouse is the key to scarlets job interview another sign that freeman is clueless freemans endless stage talk where all aspects of scarlets reality are reduced to one or another stage related freeman experience was irritating freeman is right to emphasize that scarlet is young with her future ahead of her and then conveniently ignores the brick walls she faces vis a vis uneducated no white collar skills or experience very poor no family support and a lifetime of low self esteem scarlet learns such life lessons from freeman as some people pay $100 for a tshirt and a revealing blouse may open doors in lieu of her lack of education and white collar job skills in the end freeman offers scarlet little more than strange diversion with a starnot even paying for gas for scarlets dead of night return to her unchanged life in a town the name of which freeman cares not to know'"
            ]
          },
          "metadata": {
            "tags": []
          },
          "execution_count": 4
        }
      ]
    },
    {
      "cell_type": "code",
      "metadata": {
        "id": "7jnx8G7eT05r",
        "colab_type": "code",
        "colab": {
          "base_uri": "https://localhost:8080/",
          "height": 35
        },
        "outputId": "5fee5292-f0e8-40d8-d18c-a91ddc05a9d3"
      },
      "source": [
        "y_train"
      ],
      "execution_count": null,
      "outputs": [
        {
          "output_type": "execute_result",
          "data": {
            "text/plain": [
              "array([0, 0, 0, ..., 1, 1, 1])"
            ]
          },
          "metadata": {
            "tags": []
          },
          "execution_count": 5
        }
      ]
    },
    {
      "cell_type": "code",
      "metadata": {
        "id": "I00H9SnwJ7E4",
        "colab_type": "code",
        "colab": {}
      },
      "source": [
        "import tensorflow as tf\n",
        "from tensorflow import keras\n",
        "tok = keras.preprocessing.text.Tokenizer()\n",
        "tok.fit_on_texts(x_train_clean) \n",
        "X_train = tok.texts_to_sequences(x_train_clean)\n",
        "X_test = tok.texts_to_sequences(x_test_clean)\n",
        "\n",
        "#\" \".join(map(str,X_train[0]))"
      ],
      "execution_count": null,
      "outputs": []
    },
    {
      "cell_type": "code",
      "metadata": {
        "id": "ogKYAx9tMr-E",
        "colab_type": "code",
        "colab": {
          "base_uri": "https://localhost:8080/",
          "height": 52
        },
        "outputId": "c856b74e-8351-47f1-afbf-27956e610219"
      },
      "source": [
        "lengths = [len(i) for i in X_train]\n",
        "print(f'Max length of sentence: {max(lengths)}')\n",
        "print(f'Average length of sentence: {np.mean(lengths)}')"
      ],
      "execution_count": null,
      "outputs": [
        {
          "output_type": "stream",
          "text": [
            "Max length of sentence: 2451\n",
            "Average length of sentence: 228.8952\n"
          ],
          "name": "stdout"
        }
      ]
    },
    {
      "cell_type": "code",
      "metadata": {
        "id": "4ARkPdTfM19S",
        "colab_type": "code",
        "colab": {}
      },
      "source": [
        "from sklearn.model_selection import train_test_split\n",
        "X_train = keras.preprocessing.sequence.pad_sequences(X_train,padding='post',maxlen=1000)\n",
        "X_test = keras.preprocessing.sequence.pad_sequences(X_test,padding='post',maxlen=1000)\n",
        "X_train, X_val, y_train, y_val = train_test_split(X_train, y_train, test_size=0.3, random_state=42)\n",
        "# X_train[7]"
      ],
      "execution_count": null,
      "outputs": []
    },
    {
      "cell_type": "code",
      "metadata": {
        "id": "sCqs6F9VNQ_C",
        "colab_type": "code",
        "colab": {
          "base_uri": "https://localhost:8080/",
          "height": 444
        },
        "outputId": "acd4aa95-5899-481d-ccd0-56ef15412958"
      },
      "source": [
        "# build model\n",
        "# input shape is the vocabulary count used for the movie reviews (10,000 words)\n",
        "vocab_size = len(tok.word_index)+1\n",
        "\n",
        "model = keras.Sequential()\n",
        "model.add(keras.layers.Embedding(vocab_size, 16))\n",
        "model.add(keras.layers.Dropout(0.1))\n",
        "model.add(keras.layers.Conv1D(filters=16,kernel_size=2,padding='valid',activation='relu'))\n",
        "model.add(keras.layers.GlobalAveragePooling1D())\n",
        "model.add(keras.layers.Dropout(0.1))\n",
        "model.add(keras.layers.Dense(32, activation='relu'))\n",
        "model.add(keras.layers.Dropout(0.1))\n",
        "model.add(keras.layers.Dense(1, activation='sigmoid'))\n",
        "\n",
        "model.summary()"
      ],
      "execution_count": null,
      "outputs": [
        {
          "output_type": "stream",
          "text": [
            "Model: \"sequential\"\n",
            "_________________________________________________________________\n",
            "Layer (type)                 Output Shape              Param #   \n",
            "=================================================================\n",
            "embedding (Embedding)        (None, None, 16)          2284368   \n",
            "_________________________________________________________________\n",
            "dropout (Dropout)            (None, None, 16)          0         \n",
            "_________________________________________________________________\n",
            "conv1d (Conv1D)              (None, None, 16)          528       \n",
            "_________________________________________________________________\n",
            "global_average_pooling1d (Gl (None, 16)                0         \n",
            "_________________________________________________________________\n",
            "dropout_1 (Dropout)          (None, 16)                0         \n",
            "_________________________________________________________________\n",
            "dense (Dense)                (None, 32)                544       \n",
            "_________________________________________________________________\n",
            "dropout_2 (Dropout)          (None, 32)                0         \n",
            "_________________________________________________________________\n",
            "dense_1 (Dense)              (None, 1)                 33        \n",
            "=================================================================\n",
            "Total params: 2,285,473\n",
            "Trainable params: 2,285,473\n",
            "Non-trainable params: 0\n",
            "_________________________________________________________________\n"
          ],
          "name": "stdout"
        }
      ]
    },
    {
      "cell_type": "code",
      "metadata": {
        "id": "29XtKlJ1NwxQ",
        "colab_type": "code",
        "colab": {}
      },
      "source": [
        "model.compile(optimizer='adam',\n",
        "              loss='binary_crossentropy',\n",
        "              metrics=['acc'])"
      ],
      "execution_count": null,
      "outputs": []
    },
    {
      "cell_type": "code",
      "metadata": {
        "id": "1W0PzRjKNjKX",
        "colab_type": "code",
        "colab": {
          "base_uri": "https://localhost:8080/",
          "height": 748
        },
        "outputId": "f502648e-c488-4c03-8348-1a01c1120ad6"
      },
      "source": [
        "history = model.fit(X_train,y_train,\n",
        "                    epochs=20,\n",
        "                    validation_data=(X_val, y_val),\n",
        "                    verbose=1, # print result every epoch\n",
        "                    batch_size=512)"
      ],
      "execution_count": null,
      "outputs": [
        {
          "output_type": "stream",
          "text": [
            "Epoch 1/20\n",
            "35/35 [==============================] - 11s 318ms/step - loss: 0.6931 - acc: 0.5043 - val_loss: 0.6927 - val_acc: 0.5068\n",
            "Epoch 2/20\n",
            "35/35 [==============================] - 10s 291ms/step - loss: 0.6918 - acc: 0.5480 - val_loss: 0.6899 - val_acc: 0.5944\n",
            "Epoch 3/20\n",
            "35/35 [==============================] - 10s 289ms/step - loss: 0.6862 - acc: 0.5946 - val_loss: 0.6782 - val_acc: 0.6297\n",
            "Epoch 4/20\n",
            "35/35 [==============================] - 10s 284ms/step - loss: 0.6636 - acc: 0.6693 - val_loss: 0.6389 - val_acc: 0.7519\n",
            "Epoch 5/20\n",
            "35/35 [==============================] - 10s 286ms/step - loss: 0.6021 - acc: 0.7669 - val_loss: 0.5562 - val_acc: 0.8055\n",
            "Epoch 6/20\n",
            "35/35 [==============================] - 10s 294ms/step - loss: 0.5069 - acc: 0.8141 - val_loss: 0.4609 - val_acc: 0.8457\n",
            "Epoch 7/20\n",
            "35/35 [==============================] - 11s 301ms/step - loss: 0.4165 - acc: 0.8520 - val_loss: 0.3905 - val_acc: 0.8651\n",
            "Epoch 8/20\n",
            "35/35 [==============================] - 10s 296ms/step - loss: 0.3515 - acc: 0.8723 - val_loss: 0.3493 - val_acc: 0.8733\n",
            "Epoch 9/20\n",
            "35/35 [==============================] - 10s 285ms/step - loss: 0.3032 - acc: 0.8926 - val_loss: 0.3204 - val_acc: 0.8827\n",
            "Epoch 10/20\n",
            "35/35 [==============================] - 10s 290ms/step - loss: 0.2624 - acc: 0.9091 - val_loss: 0.3024 - val_acc: 0.8875\n",
            "Epoch 11/20\n",
            "35/35 [==============================] - 10s 288ms/step - loss: 0.2339 - acc: 0.9203 - val_loss: 0.2912 - val_acc: 0.8907\n",
            "Epoch 12/20\n",
            "35/35 [==============================] - 10s 282ms/step - loss: 0.2127 - acc: 0.9255 - val_loss: 0.2858 - val_acc: 0.8921\n",
            "Epoch 13/20\n",
            "35/35 [==============================] - 10s 283ms/step - loss: 0.1872 - acc: 0.9362 - val_loss: 0.2771 - val_acc: 0.8927\n",
            "Epoch 14/20\n",
            "35/35 [==============================] - 11s 305ms/step - loss: 0.1711 - acc: 0.9414 - val_loss: 0.2744 - val_acc: 0.8973\n",
            "Epoch 15/20\n",
            "35/35 [==============================] - 11s 315ms/step - loss: 0.1529 - acc: 0.9489 - val_loss: 0.2698 - val_acc: 0.8983\n",
            "Epoch 16/20\n",
            "35/35 [==============================] - 10s 285ms/step - loss: 0.1373 - acc: 0.9535 - val_loss: 0.2671 - val_acc: 0.8992\n",
            "Epoch 17/20\n",
            "35/35 [==============================] - 10s 280ms/step - loss: 0.1284 - acc: 0.9589 - val_loss: 0.2668 - val_acc: 0.8995\n",
            "Epoch 18/20\n",
            "35/35 [==============================] - 11s 317ms/step - loss: 0.1134 - acc: 0.9643 - val_loss: 0.2666 - val_acc: 0.9008\n",
            "Epoch 19/20\n",
            "35/35 [==============================] - 12s 337ms/step - loss: 0.1062 - acc: 0.9667 - val_loss: 0.2673 - val_acc: 0.9028\n",
            "Epoch 20/20\n",
            "35/35 [==============================] - 11s 304ms/step - loss: 0.0920 - acc: 0.9737 - val_loss: 0.2698 - val_acc: 0.9031\n"
          ],
          "name": "stdout"
        }
      ]
    },
    {
      "cell_type": "markdown",
      "metadata": {
        "id": "ZXYkT-UaOzeW",
        "colab_type": "text"
      },
      "source": [
        ""
      ]
    },
    {
      "cell_type": "code",
      "metadata": {
        "id": "fzPokCgbfI6-",
        "colab_type": "code",
        "colab": {
          "base_uri": "https://localhost:8080/",
          "height": 279
        },
        "outputId": "4b0c83e5-81a4-4e10-807a-d8e5bb70e8fe"
      },
      "source": [
        "import matplotlib.pyplot as plt\n",
        "def plot_loss(history):\n",
        "  plt.plot(history.history['val_loss'],label=\"val loss\")\n",
        "  plt.plot(history.history['loss'],label=\"train loss\")\n",
        "  plt.xlabel('epoch')\n",
        "  plt.ylabel('loss')\n",
        "\n",
        "  plt.legend()\n",
        "  plt.show()\n",
        "\n",
        "plot_loss(history)"
      ],
      "execution_count": null,
      "outputs": [
        {
          "output_type": "display_data",
          "data": {
            "image/png": "[encoded data removed]",
            "text/plain": [
              "<Figure size 432x288 with 1 Axes>"
            ]
          },
          "metadata": {
            "tags": [],
            "needs_background": "light"
          }
        }
      ]
    },
    {
      "cell_type": "code",
      "metadata": {
        "colab_type": "code",
        "id": "JvU_epPRgXui",
        "colab": {
          "base_uri": "https://localhost:8080/",
          "height": 279
        },
        "outputId": "997631fd-10af-4fc2-d8c8-96ac1918d2ff"
      },
      "source": [
        "import matplotlib.pyplot as plt\n",
        "def plot_loss(history):\n",
        "  plt.plot(history.history['val_acc'],label=\"val loss\")\n",
        "  plt.plot(history.history['acc'],label=\"train loss\")\n",
        "  plt.xlabel('epoch')\n",
        "  plt.ylabel('loss')\n",
        "\n",
        "  plt.legend()\n",
        "  plt.show()\n",
        "\n",
        "plot_loss(history)"
      ],
      "execution_count": null,
      "outputs": [
        {
          "output_type": "display_data",
          "data": {
            "image/png": "[encoded data removed]",
            "text/plain": [
              "<Figure size 432x288 with 1 Axes>"
            ]
          },
          "metadata": {
            "tags": [],
            "needs_background": "light"
          }
        }
      ]
    },
    {
      "cell_type": "code",
      "metadata": {
        "colab_type": "code",
        "id": "cXRt8KQQrSXI",
        "colab": {
          "base_uri": "https://localhost:8080/",
          "height": 35
        },
        "outputId": "543734b1-e448-4838-c560-3652a0f91426"
      },
      "source": [
        "%pwd\n",
        "%cd /content/drive/My Drive/assignment3/"
      ],
      "execution_count": null,
      "outputs": [
        {
          "output_type": "stream",
          "text": [
            "/content/drive/My Drive/assignment3\n"
          ],
          "name": "stdout"
        }
      ]
    },
    {
      "cell_type": "code",
      "metadata": {
        "id": "k7WLJHo9tndX",
        "colab_type": "code",
        "colab": {}
      },
      "source": [
        "model.save(\"./models/20834941_NLP_model.h5\")"
      ],
      "execution_count": null,
      "outputs": []
    }
  ]
}
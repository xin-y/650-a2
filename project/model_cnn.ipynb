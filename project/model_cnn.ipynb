{
  "nbformat": 4,
  "nbformat_minor": 0,
  "metadata": {
    "kernelspec": {
      "display_name": "Python 3",
      "language": "python",
      "name": "python3"
    },
    "language_info": {
      "codemirror_mode": {
        "name": "ipython",
        "version": 3
      },
      "file_extension": ".py",
      "mimetype": "text/x-python",
      "name": "python",
      "nbconvert_exporter": "python",
      "pygments_lexer": "ipython3",
      "version": "3.7.3"
    },
    "colab": {
      "name": "model_cnn",
      "provenance": [],
      "collapsed_sections": [
        "AnpKRok4GjWT",
        "D-XEjCONGjWg"
      ]
    },
    "accelerator": "GPU"
  },
  "cells": [
    {
      "cell_type": "code",
      "metadata": {
        "id": "rFPHjriMGjU4"
      },
      "source": [
        "import numpy as np\n",
        "import pandas as pd\n",
        "import matplotlib.pyplot as plt\n",
        "import tensorflow as tf"
      ],
      "execution_count": null,
      "outputs": []
    },
    {
      "cell_type": "code",
      "metadata": {
        "id": "D3-MhCEjGjU8"
      },
      "source": [
        "import warnings\n",
        "warnings.filterwarnings(\"ignore\")"
      ],
      "execution_count": null,
      "outputs": []
    },
    {
      "cell_type": "code",
      "metadata": {
        "id": "uJF_2_EpGjVG"
      },
      "source": [
        "from sklearn.feature_extraction.text import CountVectorizer\n",
        "from sklearn.feature_extraction.text import TfidfVectorizer\n",
        "\n",
        "from sklearn import svm\n",
        "from sklearn.naive_bayes import MultinomialNB\n",
        "from sklearn.naive_bayes import GaussianNB \n",
        "from sklearn.linear_model import LogisticRegression\n",
        "\n",
        "from sklearn.neighbors import KNeighborsClassifier\n",
        "from sklearn.tree import DecisionTreeClassifier\n",
        "\n",
        "from sklearn.ensemble import AdaBoostClassifier\n",
        "from sklearn.ensemble import StackingClassifier\n",
        "\n",
        "from sklearn.model_selection import KFold\n",
        "from sklearn.model_selection import train_test_split\n",
        "from sklearn.model_selection import cross_val_score\n",
        "from sklearn.model_selection import GridSearchCV\n",
        "\n",
        "from keras.utils import to_categorical"
      ],
      "execution_count": null,
      "outputs": []
    },
    {
      "cell_type": "markdown",
      "metadata": {
        "id": "uFNnlqiIGjVK"
      },
      "source": [
        "## Data"
      ]
    },
    {
      "cell_type": "code",
      "metadata": {
        "id": "RicP7NCDGjVL"
      },
      "source": [
        "path = \"data_cleaned.csv\""
      ],
      "execution_count": null,
      "outputs": []
    },
    {
      "cell_type": "code",
      "metadata": {
        "id": "-MUlAt3wksUH"
      },
      "source": [
        "data = pd.read_csv(path,header=None)"
      ],
      "execution_count": null,
      "outputs": []
    },
    {
      "cell_type": "code",
      "metadata": {
        "id": "T0cXYyXyGjVX",
        "outputId": "24fcbaa4-0510-4464-a733-6550a49659d9",
        "colab": {
          "base_uri": "https://localhost:8080/",
          "height": 399
        }
      },
      "source": [
        "data"
      ],
      "execution_count": null,
      "outputs": [
        {
          "output_type": "execute_result",
          "data": {
            "text/html": [
              "<div>\n",
              "<style scoped>\n",
              "    .dataframe tbody tr th:only-of-type {\n",
              "        vertical-align: middle;\n",
              "    }\n",
              "\n",
              "    .dataframe tbody tr th {\n",
              "        vertical-align: top;\n",
              "    }\n",
              "\n",
              "    .dataframe thead th {\n",
              "        text-align: right;\n",
              "    }\n",
              "</style>\n",
              "<table border=\"1\" class=\"dataframe\">\n",
              "  <thead>\n",
              "    <tr style=\"text-align: right;\">\n",
              "      <th></th>\n",
              "      <th>0</th>\n",
              "      <th>1</th>\n",
              "    </tr>\n",
              "  </thead>\n",
              "  <tbody>\n",
              "    <tr>\n",
              "      <th>0</th>\n",
              "      <td>touch me turn me on and burn me down   your li...</td>\n",
              "      <td>0</td>\n",
              "    </tr>\n",
              "    <tr>\n",
              "      <th>1</th>\n",
              "      <td>well i dont give a damn that your cars on fire...</td>\n",
              "      <td>0</td>\n",
              "    </tr>\n",
              "    <tr>\n",
              "      <th>2</th>\n",
              "      <td>i saw you starin at each other i saw your eyes...</td>\n",
              "      <td>0</td>\n",
              "    </tr>\n",
              "    <tr>\n",
              "      <th>3</th>\n",
              "      <td>your cruel device your blood like ice one look...</td>\n",
              "      <td>0</td>\n",
              "    </tr>\n",
              "    <tr>\n",
              "      <th>4</th>\n",
              "      <td>stretch the bones over my skin stretch the ski...</td>\n",
              "      <td>0</td>\n",
              "    </tr>\n",
              "    <tr>\n",
              "      <th>...</th>\n",
              "      <td>...</td>\n",
              "      <td>...</td>\n",
              "    </tr>\n",
              "    <tr>\n",
              "      <th>2459</th>\n",
              "      <td>haces muy mal en elevar mi tensión en aplastar...</td>\n",
              "      <td>3</td>\n",
              "    </tr>\n",
              "    <tr>\n",
              "      <th>2460</th>\n",
              "      <td>cierro los ojos sin mirar atrás las cosas buen...</td>\n",
              "      <td>3</td>\n",
              "    </tr>\n",
              "    <tr>\n",
              "      <th>2461</th>\n",
              "      <td>una palomita blanca de piquito colorado ayer y...</td>\n",
              "      <td>3</td>\n",
              "    </tr>\n",
              "    <tr>\n",
              "      <th>2462</th>\n",
              "      <td>sólo una palabra se hubiera llevado el dolor c...</td>\n",
              "      <td>3</td>\n",
              "    </tr>\n",
              "    <tr>\n",
              "      <th>2463</th>\n",
              "      <td>lover please please come back dont take a trai...</td>\n",
              "      <td>3</td>\n",
              "    </tr>\n",
              "  </tbody>\n",
              "</table>\n",
              "<p>2464 rows × 2 columns</p>\n",
              "</div>"
            ],
            "text/plain": [
              "                                                      0  1\n",
              "0     touch me turn me on and burn me down   your li...  0\n",
              "1     well i dont give a damn that your cars on fire...  0\n",
              "2     i saw you starin at each other i saw your eyes...  0\n",
              "3     your cruel device your blood like ice one look...  0\n",
              "4     stretch the bones over my skin stretch the ski...  0\n",
              "...                                                 ... ..\n",
              "2459  haces muy mal en elevar mi tensión en aplastar...  3\n",
              "2460  cierro los ojos sin mirar atrás las cosas buen...  3\n",
              "2461  una palomita blanca de piquito colorado ayer y...  3\n",
              "2462  sólo una palabra se hubiera llevado el dolor c...  3\n",
              "2463  lover please please come back dont take a trai...  3\n",
              "\n",
              "[2464 rows x 2 columns]"
            ]
          },
          "metadata": {
            "tags": []
          },
          "execution_count": 35
        }
      ]
    },
    {
      "cell_type": "code",
      "metadata": {
        "id": "rtYrnreRGjVc"
      },
      "source": [
        "labels = data.iloc[:,1]\n",
        "lyrics = data.iloc[:,0]"
      ],
      "execution_count": null,
      "outputs": []
    },
    {
      "cell_type": "code",
      "metadata": {
        "id": "5DdVjD-7GjVk",
        "outputId": "8c0fca14-1ed1-43ed-ae44-49cf04a6f09b",
        "colab": {
          "base_uri": "https://localhost:8080/",
          "height": 35
        }
      },
      "source": [
        "labels[2462]"
      ],
      "execution_count": null,
      "outputs": [
        {
          "output_type": "execute_result",
          "data": {
            "text/plain": [
              "3"
            ]
          },
          "metadata": {
            "tags": []
          },
          "execution_count": 37
        }
      ]
    },
    {
      "cell_type": "code",
      "metadata": {
        "id": "raA6ukLaGjVn",
        "outputId": "8e4860f6-5bff-4bb1-bf92-4bf9a64a1d78",
        "colab": {
          "base_uri": "https://localhost:8080/",
          "height": 195
        }
      },
      "source": [
        "lyrics[2462]"
      ],
      "execution_count": null,
      "outputs": [
        {
          "output_type": "execute_result",
          "data": {
            "application/vnd.google.colaboratory.intrinsic+json": {
              "type": "string"
            },
            "text/plain": [
              "'sólo una palabra se hubiera llevado el dolor con el beso amargo de aquel licor hubiera bastado mi amor sólo una mentira se viene conmigo a pasear sentirme querida en aquel abrazo en el mar  con el vestido azul que un día conociste me marcho sin saber si me besaste antes de irte te di mi corazón y tú lo regalaste te di todo el amor que pude darte y me robaste he rasgado mi vestido con una copa de vino hoy tu amor corta como el cristal  en el cielo hay playas donde ves la vida pasar donde los recuerdos no hacen llorar vienen muy despacio y se van sólo una caricia me hubiera ayudado a olvidar que no eran mis labios los que ahora te hacen soñar  con el vestido azul que un día conociste me marcho sin saber si me besaste antes de irte te di mi corazón y tú lo regalaste te di todo el amor que pude darte y me robaste he rasgado mi vestido con una copa de vino hoy tu amor corta como el cristal buena suerte en tu camino yo ya tengo mi destino con mi sangre escribo este final'"
            ]
          },
          "metadata": {
            "tags": []
          },
          "execution_count": 38
        }
      ]
    },
    {
      "cell_type": "code",
      "metadata": {
        "id": "NDYO7ea2GjVv",
        "outputId": "73fdbfb0-df94-4525-b35b-501a3f704c1c",
        "colab": {
          "base_uri": "https://localhost:8080/",
          "height": 230
        }
      },
      "source": [
        "lyrics"
      ],
      "execution_count": null,
      "outputs": [
        {
          "output_type": "execute_result",
          "data": {
            "text/plain": [
              "0       touch me turn me on and burn me down   your li...\n",
              "1       well i dont give a damn that your cars on fire...\n",
              "2       i saw you starin at each other i saw your eyes...\n",
              "3       your cruel device your blood like ice one look...\n",
              "4       stretch the bones over my skin stretch the ski...\n",
              "                              ...                        \n",
              "2459    haces muy mal en elevar mi tensión en aplastar...\n",
              "2460    cierro los ojos sin mirar atrás las cosas buen...\n",
              "2461    una palomita blanca de piquito colorado ayer y...\n",
              "2462    sólo una palabra se hubiera llevado el dolor c...\n",
              "2463    lover please please come back dont take a trai...\n",
              "Name: 0, Length: 2464, dtype: object"
            ]
          },
          "metadata": {
            "tags": []
          },
          "execution_count": 39
        }
      ]
    },
    {
      "cell_type": "code",
      "metadata": {
        "id": "gvEljoxhGjV2"
      },
      "source": [
        "X_train, X_test, y_train, y_test = train_test_split(lyrics, labels, test_size=0.2, random_state=42)"
      ],
      "execution_count": null,
      "outputs": []
    },
    {
      "cell_type": "code",
      "metadata": {
        "id": "HjoW06vKGjV6",
        "outputId": "ded5c890-1d52-4eb4-ec97-b25d226bc8b3",
        "colab": {
          "base_uri": "https://localhost:8080/",
          "height": 230
        }
      },
      "source": [
        "X_train"
      ],
      "execution_count": null,
      "outputs": [
        {
          "output_type": "execute_result",
          "data": {
            "text/plain": [
              "1375    listen to the girl as she takes on half the wo...\n",
              "903     have yourself a merry little christmas let you...\n",
              "1939    the show is over partys just begun im high ton...\n",
              "1325    one day well walk in the sun  my name is verno...\n",
              "1995    mercy dont think shes pretty no more starin at...\n",
              "                              ...                        \n",
              "1638    ive seen god in the sun ive seen god in the st...\n",
              "1095    i dont want another heartbreak i dont need ano...\n",
              "1130    id gladly walk across the desert with no shoes...\n",
              "1294    our god is an awesome god he reigns from heave...\n",
              "860     i dont want you anymore cause you took my joy ...\n",
              "Name: 0, Length: 1971, dtype: object"
            ]
          },
          "metadata": {
            "tags": []
          },
          "execution_count": 41
        }
      ]
    },
    {
      "cell_type": "code",
      "metadata": {
        "id": "KiQGsIyf43wA"
      },
      "source": [
        "y_train = to_categorical(y_train)\n",
        "y_test = to_categorical(y_test)"
      ],
      "execution_count": null,
      "outputs": []
    },
    {
      "cell_type": "code",
      "metadata": {
        "id": "RqrxJTVX48Nx",
        "outputId": "dedc71d6-314d-4579-c515-a213cb8c9d5f",
        "colab": {
          "base_uri": "https://localhost:8080/",
          "height": 141
        }
      },
      "source": [
        "y_train"
      ],
      "execution_count": null,
      "outputs": [
        {
          "output_type": "execute_result",
          "data": {
            "text/plain": [
              "array([[0., 0., 1., 0.],\n",
              "       [0., 1., 0., 0.],\n",
              "       [0., 0., 0., 1.],\n",
              "       ...,\n",
              "       [0., 1., 0., 0.],\n",
              "       [0., 1., 0., 0.],\n",
              "       [0., 1., 0., 0.]], dtype=float32)"
            ]
          },
          "metadata": {
            "tags": []
          },
          "execution_count": 43
        }
      ]
    },
    {
      "cell_type": "markdown",
      "metadata": {
        "id": "WNQCOkDFGjV_"
      },
      "source": [
        "## TfidfVectorizer"
      ]
    },
    {
      "cell_type": "code",
      "metadata": {
        "id": "PLEBaDrC6aHQ"
      },
      "source": [
        "import tensorflow as tf\n",
        "from tensorflow import keras\n",
        "tok = keras.preprocessing.text.Tokenizer()\n",
        "tok.fit_on_texts(X_train) \n",
        "X_train = tok.texts_to_sequences(X_train)\n",
        "X_test = tok.texts_to_sequences(X_test)"
      ],
      "execution_count": null,
      "outputs": []
    },
    {
      "cell_type": "code",
      "metadata": {
        "id": "ogKYAx9tMr-E",
        "outputId": "a92fe633-14e0-4a09-b6a2-e13157498c6a",
        "colab": {
          "base_uri": "https://localhost:8080/",
          "height": 52
        }
      },
      "source": [
        "lengths = [len(i) for i in X_train]\n",
        "print(f'Max length of sentence: {max(lengths)}')\n",
        "print(f'Average length of sentence: {np.mean(lengths)}')"
      ],
      "execution_count": null,
      "outputs": [
        {
          "output_type": "stream",
          "text": [
            "Max length of sentence: 1164\n",
            "Average length of sentence: 208.18011161846778\n"
          ],
          "name": "stdout"
        }
      ]
    },
    {
      "cell_type": "code",
      "metadata": {
        "id": "4ARkPdTfM19S",
        "outputId": "449edc7b-2219-41a6-f37d-0466dd0dace5",
        "colab": {
          "base_uri": "https://localhost:8080/",
          "height": 1000
        }
      },
      "source": [
        "from sklearn.model_selection import train_test_split\n",
        "X_train = keras.preprocessing.sequence.pad_sequences(X_train,padding='post',maxlen=1000)\n",
        "X_test = keras.preprocessing.sequence.pad_sequences(X_test,padding='post',maxlen=1000)\n",
        "X_train, X_val, y_train, y_val = train_test_split(X_train, y_train, test_size=0.3, random_state=42)\n",
        "X_train[7]"
      ],
      "execution_count": null,
      "outputs": [
        {
          "output_type": "execute_result",
          "data": {
            "text/plain": [
              "array([    2,   121,  4501,   126,   288,    16,     2,   525,    47,\n",
              "           6,     2,   121,  4501,   127,     3,   346,    13,  3675,\n",
              "          47,   485,     5,     1,     1,   217,     7,    47,    51,\n",
              "           7,    25,    16,    16,     9,   278, 10316,    21,  2871,\n",
              "          26,    21,  2871,    49,     2,   222,  3120,    10,     3,\n",
              "         563,     2,   222,  1168,    10,    12,   678,     2,   222,\n",
              "        3120,    10,     3,   563,     2,   222,  1168,   208,     1,\n",
              "           9,  4502,    14,  5213,     7,    21,     2,  3329,    17,\n",
              "           3,  4503,     6,   454,   225,  3579,     6,     1,   148,\n",
              "          19,   225,   278,   152,    31,     7,   217,     7,    47,\n",
              "           6,    51,     7,    25,    16,    16,     9,   278,  5405,\n",
              "          14,    21,  2871,    15,    21,  2871,    15,    21,  2871,\n",
              "           2,   222,  3120,    10,     3,   563,     2,   222,  1168,\n",
              "          10,    12,   678,     2,   222,  3120,    10,     3,   563,\n",
              "           2,   222,  1168,   208,     1,     1,    86,    53,    24,\n",
              "          86,    53,   128,     3,  1277,   371,     1,    86,    53,\n",
              "          24,    53,    10,   128,     3,  1277,   371,    24,    86,\n",
              "          53,    24,    53,    10,   128,     3,  1277,   371,    24,\n",
              "          86,    53,     2,    55,    10,   128,     3,  1277,   371,\n",
              "         128,     3,  1277,   371,     6,     3,  3089,    76,    38,\n",
              "          65,    38,    65,    38,    65,    38,    65,    51,     7,\n",
              "          53,     6,     2,    38,    65,    38,    65,    38,    65,\n",
              "          51,     1,   947,   232,   164,   217,     7,    47,     6,\n",
              "          51,     7,    25,    16,    16,     9,   278,  5405,    14,\n",
              "          21,  2871,    34,    21,  2871,    34,    21,  2871,     2,\n",
              "         222,  3120,    10,     3,   563,     2,   222,  1168,    10,\n",
              "          12,   678,     2,   222,  3120,    10,     3,   563,     2,\n",
              "         222,  1168,   208,     1,     2,   222,  3120,    10,     3,\n",
              "         563,     2,   222,  1168,   208,     1,     2,   222,  1168,\n",
              "         208,     1,     0,     0,     0,     0,     0,     0,     0,\n",
              "           0,     0,     0,     0,     0,     0,     0,     0,     0,\n",
              "           0,     0,     0,     0,     0,     0,     0,     0,     0,\n",
              "           0,     0,     0,     0,     0,     0,     0,     0,     0,\n",
              "           0,     0,     0,     0,     0,     0,     0,     0,     0,\n",
              "           0,     0,     0,     0,     0,     0,     0,     0,     0,\n",
              "           0,     0,     0,     0,     0,     0,     0,     0,     0,\n",
              "           0,     0,     0,     0,     0,     0,     0,     0,     0,\n",
              "           0,     0,     0,     0,     0,     0,     0,     0,     0,\n",
              "           0,     0,     0,     0,     0,     0,     0,     0,     0,\n",
              "           0,     0,     0,     0,     0,     0,     0,     0,     0,\n",
              "           0,     0,     0,     0,     0,     0,     0,     0,     0,\n",
              "           0,     0,     0,     0,     0,     0,     0,     0,     0,\n",
              "           0,     0,     0,     0,     0,     0,     0,     0,     0,\n",
              "           0,     0,     0,     0,     0,     0,     0,     0,     0,\n",
              "           0,     0,     0,     0,     0,     0,     0,     0,     0,\n",
              "           0,     0,     0,     0,     0,     0,     0,     0,     0,\n",
              "           0,     0,     0,     0,     0,     0,     0,     0,     0,\n",
              "           0,     0,     0,     0,     0,     0,     0,     0,     0,\n",
              "           0,     0,     0,     0,     0,     0,     0,     0,     0,\n",
              "           0,     0,     0,     0,     0,     0,     0,     0,     0,\n",
              "           0,     0,     0,     0,     0,     0,     0,     0,     0,\n",
              "           0,     0,     0,     0,     0,     0,     0,     0,     0,\n",
              "           0,     0,     0,     0,     0,     0,     0,     0,     0,\n",
              "           0,     0,     0,     0,     0,     0,     0,     0,     0,\n",
              "           0,     0,     0,     0,     0,     0,     0,     0,     0,\n",
              "           0,     0,     0,     0,     0,     0,     0,     0,     0,\n",
              "           0,     0,     0,     0,     0,     0,     0,     0,     0,\n",
              "           0,     0,     0,     0,     0,     0,     0,     0,     0,\n",
              "           0,     0,     0,     0,     0,     0,     0,     0,     0,\n",
              "           0,     0,     0,     0,     0,     0,     0,     0,     0,\n",
              "           0,     0,     0,     0,     0,     0,     0,     0,     0,\n",
              "           0,     0,     0,     0,     0,     0,     0,     0,     0,\n",
              "           0,     0,     0,     0,     0,     0,     0,     0,     0,\n",
              "           0,     0,     0,     0,     0,     0,     0,     0,     0,\n",
              "           0,     0,     0,     0,     0,     0,     0,     0,     0,\n",
              "           0,     0,     0,     0,     0,     0,     0,     0,     0,\n",
              "           0,     0,     0,     0,     0,     0,     0,     0,     0,\n",
              "           0,     0,     0,     0,     0,     0,     0,     0,     0,\n",
              "           0,     0,     0,     0,     0,     0,     0,     0,     0,\n",
              "           0,     0,     0,     0,     0,     0,     0,     0,     0,\n",
              "           0,     0,     0,     0,     0,     0,     0,     0,     0,\n",
              "           0,     0,     0,     0,     0,     0,     0,     0,     0,\n",
              "           0,     0,     0,     0,     0,     0,     0,     0,     0,\n",
              "           0,     0,     0,     0,     0,     0,     0,     0,     0,\n",
              "           0,     0,     0,     0,     0,     0,     0,     0,     0,\n",
              "           0,     0,     0,     0,     0,     0,     0,     0,     0,\n",
              "           0,     0,     0,     0,     0,     0,     0,     0,     0,\n",
              "           0,     0,     0,     0,     0,     0,     0,     0,     0,\n",
              "           0,     0,     0,     0,     0,     0,     0,     0,     0,\n",
              "           0,     0,     0,     0,     0,     0,     0,     0,     0,\n",
              "           0,     0,     0,     0,     0,     0,     0,     0,     0,\n",
              "           0,     0,     0,     0,     0,     0,     0,     0,     0,\n",
              "           0,     0,     0,     0,     0,     0,     0,     0,     0,\n",
              "           0,     0,     0,     0,     0,     0,     0,     0,     0,\n",
              "           0,     0,     0,     0,     0,     0,     0,     0,     0,\n",
              "           0,     0,     0,     0,     0,     0,     0,     0,     0,\n",
              "           0,     0,     0,     0,     0,     0,     0,     0,     0,\n",
              "           0,     0,     0,     0,     0,     0,     0,     0,     0,\n",
              "           0,     0,     0,     0,     0,     0,     0,     0,     0,\n",
              "           0,     0,     0,     0,     0,     0,     0,     0,     0,\n",
              "           0,     0,     0,     0,     0,     0,     0,     0,     0,\n",
              "           0,     0,     0,     0,     0,     0,     0,     0,     0,\n",
              "           0,     0,     0,     0,     0,     0,     0,     0,     0,\n",
              "           0,     0,     0,     0,     0,     0,     0,     0,     0,\n",
              "           0,     0,     0,     0,     0,     0,     0,     0,     0,\n",
              "           0,     0,     0,     0,     0,     0,     0,     0,     0,\n",
              "           0,     0,     0,     0,     0,     0,     0,     0,     0,\n",
              "           0,     0,     0,     0,     0,     0,     0,     0,     0,\n",
              "           0,     0,     0,     0,     0,     0,     0,     0,     0,\n",
              "           0,     0,     0,     0,     0,     0,     0,     0,     0,\n",
              "           0,     0,     0,     0,     0,     0,     0,     0,     0,\n",
              "           0,     0,     0,     0,     0,     0,     0,     0,     0,\n",
              "           0,     0,     0,     0,     0,     0,     0,     0,     0,\n",
              "           0,     0,     0,     0,     0,     0,     0,     0,     0,\n",
              "           0,     0,     0,     0,     0,     0,     0,     0,     0,\n",
              "           0,     0,     0,     0,     0,     0,     0,     0,     0,\n",
              "           0,     0,     0,     0,     0,     0,     0,     0,     0,\n",
              "           0,     0,     0,     0,     0,     0,     0,     0,     0,\n",
              "           0,     0,     0,     0,     0,     0,     0,     0,     0,\n",
              "           0,     0,     0,     0,     0,     0,     0,     0,     0,\n",
              "           0,     0,     0,     0,     0,     0,     0,     0,     0,\n",
              "           0], dtype=int32)"
            ]
          },
          "metadata": {
            "tags": []
          },
          "execution_count": 46
        }
      ]
    },
    {
      "cell_type": "code",
      "metadata": {
        "id": "sCqs6F9VNQ_C",
        "outputId": "893eb168-293a-472a-aed1-cfba03235004",
        "colab": {
          "base_uri": "https://localhost:8080/",
          "height": 444
        }
      },
      "source": [
        "# build model\n",
        "vocab_size = len(tok.word_index)+1\n",
        "\n",
        "model = keras.Sequential()\n",
        "model.add(keras.layers.Embedding(vocab_size, 16))\n",
        "model.add(keras.layers.Dropout(0.1))\n",
        "model.add(keras.layers.Conv1D(filters=16,kernel_size=2,padding='valid',activation='relu'))\n",
        "model.add(keras.layers.GlobalAveragePooling1D())\n",
        "model.add(keras.layers.Dropout(0.1))\n",
        "model.add(keras.layers.Dense(32, activation='relu'))\n",
        "model.add(keras.layers.Dropout(0.1))\n",
        "model.add(keras.layers.Dense(4, activation='softmax'))\n",
        "\n",
        "model.summary()"
      ],
      "execution_count": null,
      "outputs": [
        {
          "output_type": "stream",
          "text": [
            "Model: \"sequential_8\"\n",
            "_________________________________________________________________\n",
            "Layer (type)                 Output Shape              Param #   \n",
            "=================================================================\n",
            "embedding_8 (Embedding)      (None, None, 16)          214144    \n",
            "_________________________________________________________________\n",
            "dropout_14 (Dropout)         (None, None, 16)          0         \n",
            "_________________________________________________________________\n",
            "conv1d_8 (Conv1D)            (None, None, 16)          528       \n",
            "_________________________________________________________________\n",
            "global_average_pooling1d_5 ( (None, 16)                0         \n",
            "_________________________________________________________________\n",
            "dropout_15 (Dropout)         (None, 16)                0         \n",
            "_________________________________________________________________\n",
            "dense_6 (Dense)              (None, 32)                544       \n",
            "_________________________________________________________________\n",
            "dropout_16 (Dropout)         (None, 32)                0         \n",
            "_________________________________________________________________\n",
            "dense_7 (Dense)              (None, 4)                 132       \n",
            "=================================================================\n",
            "Total params: 215,348\n",
            "Trainable params: 215,348\n",
            "Non-trainable params: 0\n",
            "_________________________________________________________________\n"
          ],
          "name": "stdout"
        }
      ]
    },
    {
      "cell_type": "code",
      "metadata": {
        "id": "29XtKlJ1NwxQ"
      },
      "source": [
        "model.compile(optimizer='adam',\n",
        "              loss='categorical_crossentropy',\n",
        "              metrics=['acc'])"
      ],
      "execution_count": null,
      "outputs": []
    },
    {
      "cell_type": "code",
      "metadata": {
        "id": "1W0PzRjKNjKX",
        "outputId": "c38d3a59-876e-4ca2-c871-c93b647b5953",
        "colab": {
          "base_uri": "https://localhost:8080/",
          "height": 1000
        }
      },
      "source": [
        "history = model.fit(X_train,y_train,\n",
        "                    epochs=200,\n",
        "                    validation_data=(X_val, y_val),\n",
        "                    verbose=1, # print result every epoch\n",
        "                    batch_size=128)"
      ],
      "execution_count": null,
      "outputs": [
        {
          "output_type": "stream",
          "text": [
            "Epoch 1/200\n",
            "11/11 [==============================] - 0s 38ms/step - loss: 1.3843 - acc: 0.3053 - val_loss: 1.3796 - val_acc: 0.3311\n",
            "Epoch 2/200\n",
            "11/11 [==============================] - 0s 14ms/step - loss: 1.3801 - acc: 0.3082 - val_loss: 1.3752 - val_acc: 0.3311\n",
            "Epoch 3/200\n",
            "11/11 [==============================] - 0s 15ms/step - loss: 1.3776 - acc: 0.3082 - val_loss: 1.3718 - val_acc: 0.3311\n",
            "Epoch 4/200\n",
            "11/11 [==============================] - 0s 14ms/step - loss: 1.3776 - acc: 0.3082 - val_loss: 1.3696 - val_acc: 0.3311\n",
            "Epoch 5/200\n",
            "11/11 [==============================] - 0s 14ms/step - loss: 1.3749 - acc: 0.3082 - val_loss: 1.3677 - val_acc: 0.3311\n",
            "Epoch 6/200\n",
            "11/11 [==============================] - 0s 15ms/step - loss: 1.3726 - acc: 0.3082 - val_loss: 1.3653 - val_acc: 0.3311\n",
            "Epoch 7/200\n",
            "11/11 [==============================] - 0s 14ms/step - loss: 1.3689 - acc: 0.3089 - val_loss: 1.3619 - val_acc: 0.3311\n",
            "Epoch 8/200\n",
            "11/11 [==============================] - 0s 14ms/step - loss: 1.3647 - acc: 0.3104 - val_loss: 1.3563 - val_acc: 0.3328\n",
            "Epoch 9/200\n",
            "11/11 [==============================] - 0s 15ms/step - loss: 1.3577 - acc: 0.3227 - val_loss: 1.3474 - val_acc: 0.3463\n",
            "Epoch 10/200\n",
            "11/11 [==============================] - 0s 15ms/step - loss: 1.3464 - acc: 0.3524 - val_loss: 1.3352 - val_acc: 0.3699\n",
            "Epoch 11/200\n",
            "11/11 [==============================] - 0s 15ms/step - loss: 1.3291 - acc: 0.3611 - val_loss: 1.3179 - val_acc: 0.3818\n",
            "Epoch 12/200\n",
            "11/11 [==============================] - 0s 14ms/step - loss: 1.3063 - acc: 0.3836 - val_loss: 1.2938 - val_acc: 0.3851\n",
            "Epoch 13/200\n",
            "11/11 [==============================] - 0s 14ms/step - loss: 1.2815 - acc: 0.4061 - val_loss: 1.2696 - val_acc: 0.4443\n",
            "Epoch 14/200\n",
            "11/11 [==============================] - 0s 14ms/step - loss: 1.2426 - acc: 0.4402 - val_loss: 1.2347 - val_acc: 0.4139\n",
            "Epoch 15/200\n",
            "11/11 [==============================] - 0s 14ms/step - loss: 1.1963 - acc: 0.4656 - val_loss: 1.1953 - val_acc: 0.4561\n",
            "Epoch 16/200\n",
            "11/11 [==============================] - 0s 14ms/step - loss: 1.1553 - acc: 0.4960 - val_loss: 1.1590 - val_acc: 0.4375\n",
            "Epoch 17/200\n",
            "11/11 [==============================] - 0s 15ms/step - loss: 1.1047 - acc: 0.4924 - val_loss: 1.1175 - val_acc: 0.5169\n",
            "Epoch 18/200\n",
            "11/11 [==============================] - 0s 14ms/step - loss: 1.0604 - acc: 0.5214 - val_loss: 1.0775 - val_acc: 0.4899\n",
            "Epoch 19/200\n",
            "11/11 [==============================] - 0s 14ms/step - loss: 1.0125 - acc: 0.5439 - val_loss: 1.0410 - val_acc: 0.5186\n",
            "Epoch 20/200\n",
            "11/11 [==============================] - 0s 14ms/step - loss: 0.9687 - acc: 0.5859 - val_loss: 1.0079 - val_acc: 0.5659\n",
            "Epoch 21/200\n",
            "11/11 [==============================] - 0s 14ms/step - loss: 0.9277 - acc: 0.6135 - val_loss: 0.9775 - val_acc: 0.5946\n",
            "Epoch 22/200\n",
            "11/11 [==============================] - 0s 14ms/step - loss: 0.8911 - acc: 0.6381 - val_loss: 0.9491 - val_acc: 0.6436\n",
            "Epoch 23/200\n",
            "11/11 [==============================] - 0s 15ms/step - loss: 0.8541 - acc: 0.6788 - val_loss: 0.9290 - val_acc: 0.6486\n",
            "Epoch 24/200\n",
            "11/11 [==============================] - 0s 14ms/step - loss: 0.8224 - acc: 0.6875 - val_loss: 0.9028 - val_acc: 0.6436\n",
            "Epoch 25/200\n",
            "11/11 [==============================] - 0s 14ms/step - loss: 0.7916 - acc: 0.7070 - val_loss: 0.8789 - val_acc: 0.6824\n",
            "Epoch 26/200\n",
            "11/11 [==============================] - 0s 15ms/step - loss: 0.7604 - acc: 0.7302 - val_loss: 0.8598 - val_acc: 0.6993\n",
            "Epoch 27/200\n",
            "11/11 [==============================] - 0s 14ms/step - loss: 0.7307 - acc: 0.7426 - val_loss: 0.8410 - val_acc: 0.6976\n",
            "Epoch 28/200\n",
            "11/11 [==============================] - 0s 14ms/step - loss: 0.7044 - acc: 0.7556 - val_loss: 0.8241 - val_acc: 0.6926\n",
            "Epoch 29/200\n",
            "11/11 [==============================] - 0s 14ms/step - loss: 0.6728 - acc: 0.7788 - val_loss: 0.8077 - val_acc: 0.7061\n",
            "Epoch 30/200\n",
            "11/11 [==============================] - 0s 14ms/step - loss: 0.6589 - acc: 0.7839 - val_loss: 0.7931 - val_acc: 0.7162\n",
            "Epoch 31/200\n",
            "11/11 [==============================] - 0s 14ms/step - loss: 0.6400 - acc: 0.7825 - val_loss: 0.7795 - val_acc: 0.7264\n",
            "Epoch 32/200\n",
            "11/11 [==============================] - 0s 14ms/step - loss: 0.6131 - acc: 0.7846 - val_loss: 0.7670 - val_acc: 0.7314\n",
            "Epoch 33/200\n",
            "11/11 [==============================] - 0s 14ms/step - loss: 0.5962 - acc: 0.7977 - val_loss: 0.7566 - val_acc: 0.7331\n",
            "Epoch 34/200\n",
            "11/11 [==============================] - 0s 14ms/step - loss: 0.5758 - acc: 0.8064 - val_loss: 0.7454 - val_acc: 0.7382\n",
            "Epoch 35/200\n",
            "11/11 [==============================] - 0s 16ms/step - loss: 0.5523 - acc: 0.8173 - val_loss: 0.7364 - val_acc: 0.7416\n",
            "Epoch 36/200\n",
            "11/11 [==============================] - 0s 14ms/step - loss: 0.5343 - acc: 0.8332 - val_loss: 0.7218 - val_acc: 0.7416\n",
            "Epoch 37/200\n",
            "11/11 [==============================] - 0s 14ms/step - loss: 0.5106 - acc: 0.8434 - val_loss: 0.7144 - val_acc: 0.7534\n",
            "Epoch 38/200\n",
            "11/11 [==============================] - 0s 15ms/step - loss: 0.4994 - acc: 0.8506 - val_loss: 0.7026 - val_acc: 0.7584\n",
            "Epoch 39/200\n",
            "11/11 [==============================] - 0s 15ms/step - loss: 0.4851 - acc: 0.8506 - val_loss: 0.6959 - val_acc: 0.7416\n",
            "Epoch 40/200\n",
            "11/11 [==============================] - 0s 14ms/step - loss: 0.4619 - acc: 0.8615 - val_loss: 0.6863 - val_acc: 0.7517\n",
            "Epoch 41/200\n",
            "11/11 [==============================] - 0s 15ms/step - loss: 0.4537 - acc: 0.8622 - val_loss: 0.6727 - val_acc: 0.7703\n",
            "Epoch 42/200\n",
            "11/11 [==============================] - 0s 14ms/step - loss: 0.4317 - acc: 0.8738 - val_loss: 0.6652 - val_acc: 0.7618\n",
            "Epoch 43/200\n",
            "11/11 [==============================] - 0s 14ms/step - loss: 0.4228 - acc: 0.8760 - val_loss: 0.6551 - val_acc: 0.7500\n",
            "Epoch 44/200\n",
            "11/11 [==============================] - 0s 15ms/step - loss: 0.4024 - acc: 0.8883 - val_loss: 0.6412 - val_acc: 0.7787\n",
            "Epoch 45/200\n",
            "11/11 [==============================] - 0s 15ms/step - loss: 0.3899 - acc: 0.8898 - val_loss: 0.6356 - val_acc: 0.7804\n",
            "Epoch 46/200\n",
            "11/11 [==============================] - 0s 15ms/step - loss: 0.3919 - acc: 0.8840 - val_loss: 0.6219 - val_acc: 0.7872\n",
            "Epoch 47/200\n",
            "11/11 [==============================] - 0s 14ms/step - loss: 0.3687 - acc: 0.8861 - val_loss: 0.6237 - val_acc: 0.7669\n",
            "Epoch 48/200\n",
            "11/11 [==============================] - 0s 14ms/step - loss: 0.3465 - acc: 0.8985 - val_loss: 0.6037 - val_acc: 0.7821\n",
            "Epoch 49/200\n",
            "11/11 [==============================] - 0s 16ms/step - loss: 0.3431 - acc: 0.9007 - val_loss: 0.5946 - val_acc: 0.7939\n",
            "Epoch 50/200\n",
            "11/11 [==============================] - 0s 15ms/step - loss: 0.3233 - acc: 0.9086 - val_loss: 0.5975 - val_acc: 0.7922\n",
            "Epoch 51/200\n",
            "11/11 [==============================] - 0s 14ms/step - loss: 0.3150 - acc: 0.9144 - val_loss: 0.5762 - val_acc: 0.7990\n",
            "Epoch 52/200\n",
            "11/11 [==============================] - 0s 15ms/step - loss: 0.3023 - acc: 0.9173 - val_loss: 0.5753 - val_acc: 0.7922\n",
            "Epoch 53/200\n",
            "11/11 [==============================] - 0s 14ms/step - loss: 0.2713 - acc: 0.9253 - val_loss: 0.5669 - val_acc: 0.7956\n",
            "Epoch 54/200\n",
            "11/11 [==============================] - 0s 15ms/step - loss: 0.2717 - acc: 0.9260 - val_loss: 0.5502 - val_acc: 0.7956\n",
            "Epoch 55/200\n",
            "11/11 [==============================] - 0s 15ms/step - loss: 0.2709 - acc: 0.9217 - val_loss: 0.5539 - val_acc: 0.8007\n",
            "Epoch 56/200\n",
            "11/11 [==============================] - 0s 14ms/step - loss: 0.2558 - acc: 0.9289 - val_loss: 0.5351 - val_acc: 0.8091\n",
            "Epoch 57/200\n",
            "11/11 [==============================] - 0s 14ms/step - loss: 0.2582 - acc: 0.9275 - val_loss: 0.5323 - val_acc: 0.8091\n",
            "Epoch 58/200\n",
            "11/11 [==============================] - 0s 15ms/step - loss: 0.2386 - acc: 0.9355 - val_loss: 0.5233 - val_acc: 0.8125\n",
            "Epoch 59/200\n",
            "11/11 [==============================] - 0s 14ms/step - loss: 0.2359 - acc: 0.9297 - val_loss: 0.5177 - val_acc: 0.8142\n",
            "Epoch 60/200\n",
            "11/11 [==============================] - 0s 14ms/step - loss: 0.2246 - acc: 0.9347 - val_loss: 0.5090 - val_acc: 0.8176\n",
            "Epoch 61/200\n",
            "11/11 [==============================] - 0s 15ms/step - loss: 0.2095 - acc: 0.9449 - val_loss: 0.5090 - val_acc: 0.8142\n",
            "Epoch 62/200\n",
            "11/11 [==============================] - 0s 14ms/step - loss: 0.2068 - acc: 0.9391 - val_loss: 0.4951 - val_acc: 0.8193\n",
            "Epoch 63/200\n",
            "11/11 [==============================] - 0s 14ms/step - loss: 0.2029 - acc: 0.9391 - val_loss: 0.4867 - val_acc: 0.8226\n",
            "Epoch 64/200\n",
            "11/11 [==============================] - 0s 15ms/step - loss: 0.1926 - acc: 0.9500 - val_loss: 0.4928 - val_acc: 0.8209\n",
            "Epoch 65/200\n",
            "11/11 [==============================] - 0s 15ms/step - loss: 0.1894 - acc: 0.9398 - val_loss: 0.4770 - val_acc: 0.8277\n",
            "Epoch 66/200\n",
            "11/11 [==============================] - 0s 14ms/step - loss: 0.1995 - acc: 0.9405 - val_loss: 0.4690 - val_acc: 0.8311\n",
            "Epoch 67/200\n",
            "11/11 [==============================] - 0s 15ms/step - loss: 0.1748 - acc: 0.9572 - val_loss: 0.4671 - val_acc: 0.8260\n",
            "Epoch 68/200\n",
            "11/11 [==============================] - 0s 14ms/step - loss: 0.1710 - acc: 0.9507 - val_loss: 0.4715 - val_acc: 0.8277\n",
            "Epoch 69/200\n",
            "11/11 [==============================] - 0s 14ms/step - loss: 0.1796 - acc: 0.9543 - val_loss: 0.4594 - val_acc: 0.8345\n",
            "Epoch 70/200\n",
            "11/11 [==============================] - 0s 14ms/step - loss: 0.1770 - acc: 0.9485 - val_loss: 0.4510 - val_acc: 0.8395\n",
            "Epoch 71/200\n",
            "11/11 [==============================] - 0s 15ms/step - loss: 0.1551 - acc: 0.9550 - val_loss: 0.4499 - val_acc: 0.8361\n",
            "Epoch 72/200\n",
            "11/11 [==============================] - 0s 14ms/step - loss: 0.1584 - acc: 0.9572 - val_loss: 0.4437 - val_acc: 0.8395\n",
            "Epoch 73/200\n",
            "11/11 [==============================] - 0s 13ms/step - loss: 0.1470 - acc: 0.9616 - val_loss: 0.4388 - val_acc: 0.8345\n",
            "Epoch 74/200\n",
            "11/11 [==============================] - 0s 14ms/step - loss: 0.1542 - acc: 0.9587 - val_loss: 0.4349 - val_acc: 0.8395\n",
            "Epoch 75/200\n",
            "11/11 [==============================] - 0s 14ms/step - loss: 0.1343 - acc: 0.9666 - val_loss: 0.4337 - val_acc: 0.8345\n",
            "Epoch 76/200\n",
            "11/11 [==============================] - 0s 14ms/step - loss: 0.1315 - acc: 0.9681 - val_loss: 0.4310 - val_acc: 0.8378\n",
            "Epoch 77/200\n",
            "11/11 [==============================] - 0s 13ms/step - loss: 0.1316 - acc: 0.9652 - val_loss: 0.4248 - val_acc: 0.8446\n",
            "Epoch 78/200\n",
            "11/11 [==============================] - 0s 15ms/step - loss: 0.1357 - acc: 0.9623 - val_loss: 0.4215 - val_acc: 0.8429\n",
            "Epoch 79/200\n",
            "11/11 [==============================] - 0s 14ms/step - loss: 0.1181 - acc: 0.9659 - val_loss: 0.4198 - val_acc: 0.8480\n",
            "Epoch 80/200\n",
            "11/11 [==============================] - 0s 13ms/step - loss: 0.1226 - acc: 0.9674 - val_loss: 0.4148 - val_acc: 0.8463\n",
            "Epoch 81/200\n",
            "11/11 [==============================] - 0s 14ms/step - loss: 0.1337 - acc: 0.9608 - val_loss: 0.4157 - val_acc: 0.8480\n",
            "Epoch 82/200\n",
            "11/11 [==============================] - 0s 14ms/step - loss: 0.1257 - acc: 0.9652 - val_loss: 0.4153 - val_acc: 0.8480\n",
            "Epoch 83/200\n",
            "11/11 [==============================] - 0s 15ms/step - loss: 0.1182 - acc: 0.9645 - val_loss: 0.4123 - val_acc: 0.8497\n",
            "Epoch 84/200\n",
            "11/11 [==============================] - 0s 14ms/step - loss: 0.1215 - acc: 0.9623 - val_loss: 0.4078 - val_acc: 0.8530\n",
            "Epoch 85/200\n",
            "11/11 [==============================] - 0s 15ms/step - loss: 0.1302 - acc: 0.9666 - val_loss: 0.4034 - val_acc: 0.8514\n",
            "Epoch 86/200\n",
            "11/11 [==============================] - 0s 14ms/step - loss: 0.1079 - acc: 0.9724 - val_loss: 0.4019 - val_acc: 0.8547\n",
            "Epoch 87/200\n",
            "11/11 [==============================] - 0s 14ms/step - loss: 0.1157 - acc: 0.9659 - val_loss: 0.4025 - val_acc: 0.8514\n",
            "Epoch 88/200\n",
            "11/11 [==============================] - 0s 14ms/step - loss: 0.1123 - acc: 0.9630 - val_loss: 0.4023 - val_acc: 0.8530\n",
            "Epoch 89/200\n",
            "11/11 [==============================] - 0s 14ms/step - loss: 0.1052 - acc: 0.9681 - val_loss: 0.3968 - val_acc: 0.8547\n",
            "Epoch 90/200\n",
            "11/11 [==============================] - 0s 15ms/step - loss: 0.1070 - acc: 0.9717 - val_loss: 0.3925 - val_acc: 0.8547\n",
            "Epoch 91/200\n",
            "11/11 [==============================] - 0s 14ms/step - loss: 0.1038 - acc: 0.9703 - val_loss: 0.3917 - val_acc: 0.8564\n",
            "Epoch 92/200\n",
            "11/11 [==============================] - 0s 14ms/step - loss: 0.0968 - acc: 0.9695 - val_loss: 0.3902 - val_acc: 0.8564\n",
            "Epoch 93/200\n",
            "11/11 [==============================] - 0s 15ms/step - loss: 0.1047 - acc: 0.9717 - val_loss: 0.3902 - val_acc: 0.8632\n",
            "Epoch 94/200\n",
            "11/11 [==============================] - 0s 14ms/step - loss: 0.1048 - acc: 0.9666 - val_loss: 0.3859 - val_acc: 0.8530\n",
            "Epoch 95/200\n",
            "11/11 [==============================] - 0s 14ms/step - loss: 0.0963 - acc: 0.9746 - val_loss: 0.3816 - val_acc: 0.8547\n",
            "Epoch 96/200\n",
            "11/11 [==============================] - 0s 15ms/step - loss: 0.1041 - acc: 0.9688 - val_loss: 0.3813 - val_acc: 0.8598\n",
            "Epoch 97/200\n",
            "11/11 [==============================] - 0s 14ms/step - loss: 0.0925 - acc: 0.9710 - val_loss: 0.3835 - val_acc: 0.8564\n",
            "Epoch 98/200\n",
            "11/11 [==============================] - 0s 14ms/step - loss: 0.0942 - acc: 0.9739 - val_loss: 0.3835 - val_acc: 0.8564\n",
            "Epoch 99/200\n",
            "11/11 [==============================] - 0s 15ms/step - loss: 0.1011 - acc: 0.9659 - val_loss: 0.3837 - val_acc: 0.8632\n",
            "Epoch 100/200\n",
            "11/11 [==============================] - 0s 14ms/step - loss: 0.0897 - acc: 0.9753 - val_loss: 0.3798 - val_acc: 0.8564\n",
            "Epoch 101/200\n",
            "11/11 [==============================] - 0s 15ms/step - loss: 0.0856 - acc: 0.9710 - val_loss: 0.3801 - val_acc: 0.8547\n",
            "Epoch 102/200\n",
            "11/11 [==============================] - 0s 15ms/step - loss: 0.0875 - acc: 0.9703 - val_loss: 0.3835 - val_acc: 0.8581\n",
            "Epoch 103/200\n",
            "11/11 [==============================] - 0s 14ms/step - loss: 0.0802 - acc: 0.9768 - val_loss: 0.3786 - val_acc: 0.8598\n",
            "Epoch 104/200\n",
            "11/11 [==============================] - 0s 15ms/step - loss: 0.0826 - acc: 0.9753 - val_loss: 0.3780 - val_acc: 0.8598\n",
            "Epoch 105/200\n",
            "11/11 [==============================] - 0s 16ms/step - loss: 0.0887 - acc: 0.9724 - val_loss: 0.3755 - val_acc: 0.8581\n",
            "Epoch 106/200\n",
            "11/11 [==============================] - 0s 15ms/step - loss: 0.0878 - acc: 0.9710 - val_loss: 0.3769 - val_acc: 0.8598\n",
            "Epoch 107/200\n",
            "11/11 [==============================] - 0s 17ms/step - loss: 0.0876 - acc: 0.9724 - val_loss: 0.3752 - val_acc: 0.8632\n",
            "Epoch 108/200\n",
            "11/11 [==============================] - 0s 14ms/step - loss: 0.0774 - acc: 0.9746 - val_loss: 0.3700 - val_acc: 0.8615\n",
            "Epoch 109/200\n",
            "11/11 [==============================] - 0s 14ms/step - loss: 0.0813 - acc: 0.9732 - val_loss: 0.3656 - val_acc: 0.8564\n",
            "Epoch 110/200\n",
            "11/11 [==============================] - 0s 16ms/step - loss: 0.0775 - acc: 0.9746 - val_loss: 0.3645 - val_acc: 0.8615\n",
            "Epoch 111/200\n",
            "11/11 [==============================] - 0s 14ms/step - loss: 0.0745 - acc: 0.9739 - val_loss: 0.3645 - val_acc: 0.8598\n",
            "Epoch 112/200\n",
            "11/11 [==============================] - 0s 14ms/step - loss: 0.0758 - acc: 0.9753 - val_loss: 0.3602 - val_acc: 0.8632\n",
            "Epoch 113/200\n",
            "11/11 [==============================] - 0s 14ms/step - loss: 0.0812 - acc: 0.9717 - val_loss: 0.3593 - val_acc: 0.8666\n",
            "Epoch 114/200\n",
            "11/11 [==============================] - 0s 14ms/step - loss: 0.0785 - acc: 0.9724 - val_loss: 0.3586 - val_acc: 0.8649\n",
            "Epoch 115/200\n",
            "11/11 [==============================] - 0s 14ms/step - loss: 0.0828 - acc: 0.9724 - val_loss: 0.3557 - val_acc: 0.8598\n",
            "Epoch 116/200\n",
            "11/11 [==============================] - 0s 14ms/step - loss: 0.0671 - acc: 0.9768 - val_loss: 0.3546 - val_acc: 0.8682\n",
            "Epoch 117/200\n",
            "11/11 [==============================] - 0s 14ms/step - loss: 0.0780 - acc: 0.9746 - val_loss: 0.3624 - val_acc: 0.8632\n",
            "Epoch 118/200\n",
            "11/11 [==============================] - 0s 14ms/step - loss: 0.0878 - acc: 0.9681 - val_loss: 0.3500 - val_acc: 0.8682\n",
            "Epoch 119/200\n",
            "11/11 [==============================] - 0s 14ms/step - loss: 0.0805 - acc: 0.9732 - val_loss: 0.3484 - val_acc: 0.8649\n",
            "Epoch 120/200\n",
            "11/11 [==============================] - 0s 14ms/step - loss: 0.0755 - acc: 0.9739 - val_loss: 0.3476 - val_acc: 0.8682\n",
            "Epoch 121/200\n",
            "11/11 [==============================] - 0s 14ms/step - loss: 0.0737 - acc: 0.9761 - val_loss: 0.3455 - val_acc: 0.8666\n",
            "Epoch 122/200\n",
            "11/11 [==============================] - 0s 14ms/step - loss: 0.0672 - acc: 0.9746 - val_loss: 0.3444 - val_acc: 0.8649\n",
            "Epoch 123/200\n",
            "11/11 [==============================] - 0s 14ms/step - loss: 0.0744 - acc: 0.9746 - val_loss: 0.3435 - val_acc: 0.8649\n",
            "Epoch 124/200\n",
            "11/11 [==============================] - 0s 14ms/step - loss: 0.0663 - acc: 0.9790 - val_loss: 0.3451 - val_acc: 0.8666\n",
            "Epoch 125/200\n",
            "11/11 [==============================] - 0s 14ms/step - loss: 0.0686 - acc: 0.9768 - val_loss: 0.3493 - val_acc: 0.8733\n",
            "Epoch 126/200\n",
            "11/11 [==============================] - 0s 14ms/step - loss: 0.0654 - acc: 0.9775 - val_loss: 0.3479 - val_acc: 0.8699\n",
            "Epoch 127/200\n",
            "11/11 [==============================] - 0s 14ms/step - loss: 0.0638 - acc: 0.9797 - val_loss: 0.3466 - val_acc: 0.8666\n",
            "Epoch 128/200\n",
            "11/11 [==============================] - 0s 16ms/step - loss: 0.0706 - acc: 0.9761 - val_loss: 0.3455 - val_acc: 0.8666\n",
            "Epoch 129/200\n",
            "11/11 [==============================] - 0s 15ms/step - loss: 0.0631 - acc: 0.9753 - val_loss: 0.3458 - val_acc: 0.8649\n",
            "Epoch 130/200\n",
            "11/11 [==============================] - 0s 16ms/step - loss: 0.0616 - acc: 0.9819 - val_loss: 0.3444 - val_acc: 0.8666\n",
            "Epoch 131/200\n",
            "11/11 [==============================] - 0s 14ms/step - loss: 0.0621 - acc: 0.9761 - val_loss: 0.3427 - val_acc: 0.8666\n",
            "Epoch 132/200\n",
            "11/11 [==============================] - 0s 14ms/step - loss: 0.0749 - acc: 0.9717 - val_loss: 0.3382 - val_acc: 0.8682\n",
            "Epoch 133/200\n",
            "11/11 [==============================] - 0s 15ms/step - loss: 0.0662 - acc: 0.9790 - val_loss: 0.3374 - val_acc: 0.8784\n",
            "Epoch 134/200\n",
            "11/11 [==============================] - 0s 14ms/step - loss: 0.0649 - acc: 0.9761 - val_loss: 0.3363 - val_acc: 0.8733\n",
            "Epoch 135/200\n",
            "11/11 [==============================] - 0s 14ms/step - loss: 0.0627 - acc: 0.9768 - val_loss: 0.3397 - val_acc: 0.8750\n",
            "Epoch 136/200\n",
            "11/11 [==============================] - 0s 15ms/step - loss: 0.0605 - acc: 0.9811 - val_loss: 0.3397 - val_acc: 0.8750\n",
            "Epoch 137/200\n",
            "11/11 [==============================] - 0s 14ms/step - loss: 0.0605 - acc: 0.9804 - val_loss: 0.3401 - val_acc: 0.8750\n",
            "Epoch 138/200\n",
            "11/11 [==============================] - 0s 14ms/step - loss: 0.0553 - acc: 0.9819 - val_loss: 0.3403 - val_acc: 0.8716\n",
            "Epoch 139/200\n",
            "11/11 [==============================] - 0s 15ms/step - loss: 0.0640 - acc: 0.9775 - val_loss: 0.3406 - val_acc: 0.8733\n",
            "Epoch 140/200\n",
            "11/11 [==============================] - 0s 14ms/step - loss: 0.0710 - acc: 0.9790 - val_loss: 0.3444 - val_acc: 0.8733\n",
            "Epoch 141/200\n",
            "11/11 [==============================] - 0s 15ms/step - loss: 0.0558 - acc: 0.9775 - val_loss: 0.3467 - val_acc: 0.8750\n",
            "Epoch 142/200\n",
            "11/11 [==============================] - 0s 15ms/step - loss: 0.0575 - acc: 0.9761 - val_loss: 0.3420 - val_acc: 0.8767\n",
            "Epoch 143/200\n",
            "11/11 [==============================] - 0s 15ms/step - loss: 0.0572 - acc: 0.9761 - val_loss: 0.3354 - val_acc: 0.8733\n",
            "Epoch 144/200\n",
            "11/11 [==============================] - 0s 14ms/step - loss: 0.0588 - acc: 0.9797 - val_loss: 0.3372 - val_acc: 0.8699\n",
            "Epoch 145/200\n",
            "11/11 [==============================] - 0s 14ms/step - loss: 0.0636 - acc: 0.9732 - val_loss: 0.3389 - val_acc: 0.8699\n",
            "Epoch 146/200\n",
            "11/11 [==============================] - 0s 15ms/step - loss: 0.0556 - acc: 0.9797 - val_loss: 0.3419 - val_acc: 0.8699\n",
            "Epoch 147/200\n",
            "11/11 [==============================] - 0s 15ms/step - loss: 0.0551 - acc: 0.9811 - val_loss: 0.3426 - val_acc: 0.8682\n",
            "Epoch 148/200\n",
            "11/11 [==============================] - 0s 14ms/step - loss: 0.0557 - acc: 0.9819 - val_loss: 0.3415 - val_acc: 0.8699\n",
            "Epoch 149/200\n",
            "11/11 [==============================] - 0s 14ms/step - loss: 0.0529 - acc: 0.9840 - val_loss: 0.3380 - val_acc: 0.8682\n",
            "Epoch 150/200\n",
            "11/11 [==============================] - 0s 14ms/step - loss: 0.0618 - acc: 0.9775 - val_loss: 0.3358 - val_acc: 0.8733\n",
            "Epoch 151/200\n",
            "11/11 [==============================] - 0s 15ms/step - loss: 0.0538 - acc: 0.9819 - val_loss: 0.3351 - val_acc: 0.8784\n",
            "Epoch 152/200\n",
            "11/11 [==============================] - 0s 14ms/step - loss: 0.0534 - acc: 0.9826 - val_loss: 0.3356 - val_acc: 0.8716\n",
            "Epoch 153/200\n",
            "11/11 [==============================] - 0s 15ms/step - loss: 0.0572 - acc: 0.9782 - val_loss: 0.3350 - val_acc: 0.8716\n",
            "Epoch 154/200\n",
            "11/11 [==============================] - 0s 14ms/step - loss: 0.0574 - acc: 0.9753 - val_loss: 0.3396 - val_acc: 0.8733\n",
            "Epoch 155/200\n",
            "11/11 [==============================] - 0s 14ms/step - loss: 0.0506 - acc: 0.9833 - val_loss: 0.3399 - val_acc: 0.8767\n",
            "Epoch 156/200\n",
            "11/11 [==============================] - 0s 14ms/step - loss: 0.0506 - acc: 0.9826 - val_loss: 0.3382 - val_acc: 0.8767\n",
            "Epoch 157/200\n",
            "11/11 [==============================] - 0s 15ms/step - loss: 0.0617 - acc: 0.9782 - val_loss: 0.3329 - val_acc: 0.8750\n",
            "Epoch 158/200\n",
            "11/11 [==============================] - 0s 14ms/step - loss: 0.0652 - acc: 0.9782 - val_loss: 0.3283 - val_acc: 0.8818\n",
            "Epoch 159/200\n",
            "11/11 [==============================] - 0s 15ms/step - loss: 0.0607 - acc: 0.9761 - val_loss: 0.3308 - val_acc: 0.8834\n",
            "Epoch 160/200\n",
            "11/11 [==============================] - 0s 14ms/step - loss: 0.0500 - acc: 0.9833 - val_loss: 0.3304 - val_acc: 0.8818\n",
            "Epoch 161/200\n",
            "11/11 [==============================] - 0s 14ms/step - loss: 0.0562 - acc: 0.9797 - val_loss: 0.3259 - val_acc: 0.8801\n",
            "Epoch 162/200\n",
            "11/11 [==============================] - 0s 14ms/step - loss: 0.0518 - acc: 0.9768 - val_loss: 0.3327 - val_acc: 0.8784\n",
            "Epoch 163/200\n",
            "11/11 [==============================] - 0s 15ms/step - loss: 0.0577 - acc: 0.9746 - val_loss: 0.3299 - val_acc: 0.8784\n",
            "Epoch 164/200\n",
            "11/11 [==============================] - 0s 14ms/step - loss: 0.0521 - acc: 0.9790 - val_loss: 0.3282 - val_acc: 0.8818\n",
            "Epoch 165/200\n",
            "11/11 [==============================] - 0s 14ms/step - loss: 0.0551 - acc: 0.9819 - val_loss: 0.3218 - val_acc: 0.8851\n",
            "Epoch 166/200\n",
            "11/11 [==============================] - 0s 15ms/step - loss: 0.0550 - acc: 0.9804 - val_loss: 0.3195 - val_acc: 0.8801\n",
            "Epoch 167/200\n",
            "11/11 [==============================] - 0s 13ms/step - loss: 0.0623 - acc: 0.9775 - val_loss: 0.3204 - val_acc: 0.8851\n",
            "Epoch 168/200\n",
            "11/11 [==============================] - 0s 14ms/step - loss: 0.0570 - acc: 0.9804 - val_loss: 0.3230 - val_acc: 0.8851\n",
            "Epoch 169/200\n",
            "11/11 [==============================] - 0s 15ms/step - loss: 0.0544 - acc: 0.9775 - val_loss: 0.3238 - val_acc: 0.8834\n",
            "Epoch 170/200\n",
            "11/11 [==============================] - 0s 14ms/step - loss: 0.0563 - acc: 0.9790 - val_loss: 0.3277 - val_acc: 0.8818\n",
            "Epoch 171/200\n",
            "11/11 [==============================] - 0s 14ms/step - loss: 0.0569 - acc: 0.9768 - val_loss: 0.3243 - val_acc: 0.8818\n",
            "Epoch 172/200\n",
            "11/11 [==============================] - 0s 14ms/step - loss: 0.0502 - acc: 0.9790 - val_loss: 0.3231 - val_acc: 0.8851\n",
            "Epoch 173/200\n",
            "11/11 [==============================] - 0s 15ms/step - loss: 0.0516 - acc: 0.9797 - val_loss: 0.3222 - val_acc: 0.8834\n",
            "Epoch 174/200\n",
            "11/11 [==============================] - 0s 15ms/step - loss: 0.0517 - acc: 0.9804 - val_loss: 0.3220 - val_acc: 0.8868\n",
            "Epoch 175/200\n",
            "11/11 [==============================] - 0s 14ms/step - loss: 0.0502 - acc: 0.9797 - val_loss: 0.3223 - val_acc: 0.8834\n",
            "Epoch 176/200\n",
            "11/11 [==============================] - 0s 16ms/step - loss: 0.0532 - acc: 0.9819 - val_loss: 0.3226 - val_acc: 0.8885\n",
            "Epoch 177/200\n",
            "11/11 [==============================] - 0s 14ms/step - loss: 0.0540 - acc: 0.9811 - val_loss: 0.3249 - val_acc: 0.8851\n",
            "Epoch 178/200\n",
            "11/11 [==============================] - 0s 15ms/step - loss: 0.0474 - acc: 0.9840 - val_loss: 0.3220 - val_acc: 0.8868\n",
            "Epoch 179/200\n",
            "11/11 [==============================] - 0s 16ms/step - loss: 0.0513 - acc: 0.9797 - val_loss: 0.3194 - val_acc: 0.8851\n",
            "Epoch 180/200\n",
            "11/11 [==============================] - 0s 17ms/step - loss: 0.0494 - acc: 0.9811 - val_loss: 0.3192 - val_acc: 0.8767\n",
            "Epoch 181/200\n",
            "11/11 [==============================] - 0s 15ms/step - loss: 0.0547 - acc: 0.9797 - val_loss: 0.3215 - val_acc: 0.8834\n",
            "Epoch 182/200\n",
            "11/11 [==============================] - 0s 15ms/step - loss: 0.0522 - acc: 0.9804 - val_loss: 0.3160 - val_acc: 0.8902\n",
            "Epoch 183/200\n",
            "11/11 [==============================] - 0s 16ms/step - loss: 0.0480 - acc: 0.9804 - val_loss: 0.3156 - val_acc: 0.8919\n",
            "Epoch 184/200\n",
            "11/11 [==============================] - 0s 15ms/step - loss: 0.0458 - acc: 0.9819 - val_loss: 0.3190 - val_acc: 0.8818\n",
            "Epoch 185/200\n",
            "11/11 [==============================] - 0s 15ms/step - loss: 0.0480 - acc: 0.9826 - val_loss: 0.3191 - val_acc: 0.8818\n",
            "Epoch 186/200\n",
            "11/11 [==============================] - 0s 14ms/step - loss: 0.0681 - acc: 0.9739 - val_loss: 0.3164 - val_acc: 0.8902\n",
            "Epoch 187/200\n",
            "11/11 [==============================] - 0s 16ms/step - loss: 0.0516 - acc: 0.9826 - val_loss: 0.3218 - val_acc: 0.8902\n",
            "Epoch 188/200\n",
            "11/11 [==============================] - 0s 15ms/step - loss: 0.0499 - acc: 0.9819 - val_loss: 0.3240 - val_acc: 0.8885\n",
            "Epoch 189/200\n",
            "11/11 [==============================] - 0s 15ms/step - loss: 0.0535 - acc: 0.9790 - val_loss: 0.3238 - val_acc: 0.8868\n",
            "Epoch 190/200\n",
            "11/11 [==============================] - 0s 15ms/step - loss: 0.0476 - acc: 0.9797 - val_loss: 0.3240 - val_acc: 0.8733\n",
            "Epoch 191/200\n",
            "11/11 [==============================] - 0s 16ms/step - loss: 0.0513 - acc: 0.9797 - val_loss: 0.3267 - val_acc: 0.8885\n",
            "Epoch 192/200\n",
            "11/11 [==============================] - 0s 15ms/step - loss: 0.0476 - acc: 0.9826 - val_loss: 0.3274 - val_acc: 0.8885\n",
            "Epoch 193/200\n",
            "11/11 [==============================] - 0s 15ms/step - loss: 0.0509 - acc: 0.9797 - val_loss: 0.3260 - val_acc: 0.8851\n",
            "Epoch 194/200\n",
            "11/11 [==============================] - 0s 15ms/step - loss: 0.0493 - acc: 0.9797 - val_loss: 0.3240 - val_acc: 0.8733\n",
            "Epoch 195/200\n",
            "11/11 [==============================] - 0s 14ms/step - loss: 0.0485 - acc: 0.9782 - val_loss: 0.3219 - val_acc: 0.8716\n",
            "Epoch 196/200\n",
            "11/11 [==============================] - 0s 15ms/step - loss: 0.0441 - acc: 0.9833 - val_loss: 0.3211 - val_acc: 0.8733\n",
            "Epoch 197/200\n",
            "11/11 [==============================] - 0s 15ms/step - loss: 0.0486 - acc: 0.9826 - val_loss: 0.3228 - val_acc: 0.8834\n",
            "Epoch 198/200\n",
            "11/11 [==============================] - 0s 15ms/step - loss: 0.0615 - acc: 0.9768 - val_loss: 0.3226 - val_acc: 0.8834\n",
            "Epoch 199/200\n",
            "11/11 [==============================] - 0s 14ms/step - loss: 0.0532 - acc: 0.9826 - val_loss: 0.3195 - val_acc: 0.8919\n",
            "Epoch 200/200\n",
            "11/11 [==============================] - 0s 14ms/step - loss: 0.0475 - acc: 0.9811 - val_loss: 0.3197 - val_acc: 0.8902\n"
          ],
          "name": "stdout"
        }
      ]
    },
    {
      "cell_type": "code",
      "metadata": {
        "id": "mEGTF6TFfMCq",
        "outputId": "fa186740-129a-4305-b6ba-0d2cbed3cae6",
        "colab": {
          "base_uri": "https://localhost:8080/",
          "height": 279
        }
      },
      "source": [
        "import matplotlib.pyplot as plt\n",
        "def plot_loss(history):\n",
        "  plt.plot(history.history['val_acc'],label=\"val accuracy\")\n",
        "  plt.plot(history.history['acc'],label=\"train accuracy\")\n",
        "  plt.xlabel('epoch')\n",
        "  plt.ylabel('loss')\n",
        "\n",
        "  plt.legend()\n",
        "  plt.show()\n",
        "\n",
        "plot_loss(history)"
      ],
      "execution_count": null,
      "outputs": [
        {
          "output_type": "display_data",
          "data": {
            "image/png": "[encoded data removed]",
            "text/plain": [
              "<Figure size 432x288 with 1 Axes>"
            ]
          },
          "metadata": {
            "tags": [],
            "needs_background": "light"
          }
        }
      ]
    },
    {
      "cell_type": "code",
      "metadata": {
        "id": "XXOCq2YkgxSl",
        "outputId": "c5679203-e602-4e8a-a169-3d847d0d52f2",
        "colab": {
          "base_uri": "https://localhost:8080/",
          "height": 279
        }
      },
      "source": [
        "import matplotlib.pyplot as plt\n",
        "def plot_loss(history):\n",
        "  plt.plot(history.history['val_loss'],label=\"val loss\")\n",
        "  plt.plot(history.history['loss'],label=\"train loss\")\n",
        "  plt.xlabel('epoch')\n",
        "  plt.ylabel('loss')\n",
        "\n",
        "  plt.legend()\n",
        "  plt.show()\n",
        "\n",
        "plot_loss(history)"
      ],
      "execution_count": null,
      "outputs": [
        {
          "output_type": "display_data",
          "data": {
            "image/png": "[encoded data removed]",
            "text/plain": [
              "<Figure size 432x288 with 1 Axes>"
            ]
          },
          "metadata": {
            "tags": [],
            "needs_background": "light"
          }
        }
      ]
    },
    {
      "cell_type": "code",
      "metadata": {
        "id": "ohPbLHlofENW"
      },
      "source": [
        "model.save(\"lyrics_cnn.h5\")"
      ],
      "execution_count": null,
      "outputs": []
    }
  ]
}